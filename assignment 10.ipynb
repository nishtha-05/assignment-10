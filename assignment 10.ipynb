{
 "cells": [
  {
   "cell_type": "code",
   "execution_count": null,
   "id": "ea424eb6-2469-48d5-af6a-dd3c4791021d",
   "metadata": {},
   "outputs": [],
   "source": [
    "1.\n",
    "exception is an event which occur at the execuation of the program and disrupts the normal flow of program.\n",
    "basically syntax error occur at the compolre time and it may be kind of missing paranthesis or colon."
   ]
  },
  {
   "cell_type": "code",
   "execution_count": 2,
   "id": "76133bb7-ddc4-4f6d-8a04-fd1ecacfa854",
   "metadata": {},
   "outputs": [
    {
     "name": "stdout",
     "output_type": "stream",
     "text": [
      "10.0\n"
     ]
    }
   ],
   "source": [
    "2.\n",
    "it does not interrupt the the flow of the program but will not give correct output\n",
    "\n",
    "k= 10/1\n",
    "print(k)\n",
    "here we are trying to divide a number from zero which is giving \"division by zero\" error.\n",
    "\n"
   ]
  },
  {
   "cell_type": "code",
   "execution_count": 6,
   "id": "72488351-fc25-4408-af86-411fe11a5642",
   "metadata": {},
   "outputs": [
    {
     "name": "stdout",
     "output_type": "stream",
     "text": [
      "this will handle the error [Errno 2] No such file or directory: 'name.txt'\n"
     ]
    }
   ],
   "source": [
    "3. try and catch bock are used to handle and catch the error.\n",
    "\n",
    "try :\n",
    "    f= open(\"name.txt\", \"r\")\n",
    "    \n",
    "except Exception as e:\n",
    "    print(\"this will handle the error\" , e)\n",
    "    \n",
    "    "
   ]
  },
  {
   "cell_type": "code",
   "execution_count": 8,
   "id": "1f0c7d41-f1fa-4cb5-b9cc-f1b02f291587",
   "metadata": {},
   "outputs": [
    {
     "name": "stdout",
     "output_type": "stream",
     "text": [
      "this will run properly\n"
     ]
    }
   ],
   "source": [
    "#4.try and else = if try block will run successhully then only else block will ne executed otherwise not.\n",
    "\n",
    "try :\n",
    "    f= open(\"name.txt\", \"w\")\n",
    "    f.write(\"hello and welcome to pwskills\")\n",
    "    f.close()\n",
    "except Exception as e:\n",
    "    print(\"this will handle the error\" , e)\n",
    "\n",
    "else:\n",
    "    print(\"this will run properly\")\n",
    "    "
   ]
  },
  {
   "cell_type": "code",
   "execution_count": 9,
   "id": "ccd89104-b07e-4ca7-9c75-3b4e7276ff99",
   "metadata": {},
   "outputs": [
    {
     "name": "stdout",
     "output_type": "stream",
     "text": [
      "this will handle the error [Errno 2] No such file or directory: 'name.txt1'\n",
      "this will run properly\n"
     ]
    }
   ],
   "source": [
    "# finally block will execute always it does not matter whether the exception is handled or not\n",
    "try :\n",
    "    f= open(\"name.txt1\", \"r\")\n",
    "    \n",
    "except Exception as e:\n",
    "    print(\"this will handle the error\" , e)\n",
    "\n",
    "finally:\n",
    "    print(\"this will run properly\")\n",
    "    "
   ]
  },
  {
   "cell_type": "code",
   "execution_count": 11,
   "id": "49feeac6-27b9-49d1-83f3-28ad5954e2f3",
   "metadata": {},
   "outputs": [
    {
     "ename": "Exception",
     "evalue": "this will run",
     "output_type": "error",
     "traceback": [
      "\u001b[0;31m---------------------------------------------------------------------------\u001b[0m",
      "\u001b[0;31mException\u001b[0m                                 Traceback (most recent call last)",
      "Cell \u001b[0;32mIn[11], line 4\u001b[0m\n\u001b[1;32m      2\u001b[0m x\u001b[38;5;241m=\u001b[39m\u001b[38;5;241m-\u001b[39m\u001b[38;5;241m1\u001b[39m\n\u001b[1;32m      3\u001b[0m \u001b[38;5;28;01mif\u001b[39;00m(x\u001b[38;5;241m<\u001b[39m\u001b[38;5;241m0\u001b[39m):\n\u001b[0;32m----> 4\u001b[0m     \u001b[38;5;28;01mraise\u001b[39;00m \u001b[38;5;167;01mException\u001b[39;00m (\u001b[38;5;124m\"\u001b[39m\u001b[38;5;124mthis will run\u001b[39m\u001b[38;5;124m\"\u001b[39m)\n",
      "\u001b[0;31mException\u001b[0m: this will run"
     ]
    }
   ],
   "source": [
    "#raises a specific exception when a condition is met or the code encounters an error.\n",
    "x=-1\n",
    "if(x<0):\n",
    "    raise Exception (\"this will run\")"
   ]
  },
  {
   "cell_type": "code",
   "execution_count": 12,
   "id": "e7771459-98b9-4ab2-9b25-d8d8e619c260",
   "metadata": {},
   "outputs": [
    {
     "name": "stdin",
     "output_type": "stream",
     "text": [
      "enter your age -87\n"
     ]
    },
    {
     "name": "stdout",
     "output_type": "stream",
     "text": [
      "age is negative\n"
     ]
    }
   ],
   "source": [
    "#5.programmer needs to create his own exceptions Such types of exceptions are called custom Exception. we use it to store addtional information\n",
    "class validate(Exception): # exception inherited\n",
    "    def __init__(self , msg):\n",
    "        self.msg= msg\n",
    "def validateage(age):\n",
    "    if age < 0:\n",
    "        raise validate(\"age is negative\")\n",
    "    elif age > 200:\n",
    "        raise validate(\"age is high\")\n",
    "    else:\n",
    "        print(\"age is valid\")        \n",
    "try:\n",
    "    age= int(input(\"enter your age\"))\n",
    "    validateage(age)\n",
    "except validate as e:\n",
    "    print(e)"
   ]
  },
  {
   "cell_type": "code",
   "execution_count": null,
   "id": "300dbcc2-5aa4-4bbc-97e5-0e3695c4a329",
   "metadata": {},
   "outputs": [],
   "source": []
  }
 ],
 "metadata": {
  "kernelspec": {
   "display_name": "Python 3 (ipykernel)",
   "language": "python",
   "name": "python3"
  },
  "language_info": {
   "codemirror_mode": {
    "name": "ipython",
    "version": 3
   },
   "file_extension": ".py",
   "mimetype": "text/x-python",
   "name": "python",
   "nbconvert_exporter": "python",
   "pygments_lexer": "ipython3",
   "version": "3.10.8"
  }
 },
 "nbformat": 4,
 "nbformat_minor": 5
}
